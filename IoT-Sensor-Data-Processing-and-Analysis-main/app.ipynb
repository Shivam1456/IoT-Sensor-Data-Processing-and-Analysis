{
 "cells": [
  {
   "cell_type": "code",
   "execution_count": 17,
   "metadata": {},
   "outputs": [
    {
     "name": "stdout",
     "output_type": "stream",
     "text": [
      "Requirement already satisfied: pandas in c:\\users\\sjaysawa\\desktop\\int\\user-manual\\venv\\lib\\site-packages (2.2.3)\n",
      "Requirement already satisfied: numpy>=1.23.2 in c:\\users\\sjaysawa\\desktop\\int\\user-manual\\venv\\lib\\site-packages (from pandas) (1.26.4)\n",
      "Requirement already satisfied: python-dateutil>=2.8.2 in c:\\users\\sjaysawa\\desktop\\int\\user-manual\\venv\\lib\\site-packages (from pandas) (2.9.0.post0)\n",
      "Requirement already satisfied: pytz>=2020.1 in c:\\users\\sjaysawa\\desktop\\int\\user-manual\\venv\\lib\\site-packages (from pandas) (2024.2)\n",
      "Requirement already satisfied: tzdata>=2022.7 in c:\\users\\sjaysawa\\desktop\\int\\user-manual\\venv\\lib\\site-packages (from pandas) (2024.2)\n",
      "Requirement already satisfied: six>=1.5 in c:\\users\\sjaysawa\\desktop\\int\\user-manual\\venv\\lib\\site-packages (from python-dateutil>=2.8.2->pandas) (1.17.0)\n",
      "Requirement already satisfied: numpy in c:\\users\\sjaysawa\\desktop\\int\\user-manual\\venv\\lib\\site-packages (1.26.4)\n",
      "Requirement already satisfied: sqlalchemy in c:\\users\\sjaysawa\\desktop\\int\\user-manual\\venv\\lib\\site-packages (2.0.36)\n",
      "Requirement already satisfied: typing-extensions>=4.6.0 in c:\\users\\sjaysawa\\desktop\\int\\user-manual\\venv\\lib\\site-packages (from sqlalchemy) (4.12.2)\n",
      "Requirement already satisfied: greenlet!=0.4.17 in c:\\users\\sjaysawa\\desktop\\int\\user-manual\\venv\\lib\\site-packages (from sqlalchemy) (3.1.1)\n",
      "Requirement already satisfied: matplotlib in c:\\users\\sjaysawa\\desktop\\int\\user-manual\\venv\\lib\\site-packages (3.10.0)\n",
      "Requirement already satisfied: contourpy>=1.0.1 in c:\\users\\sjaysawa\\desktop\\int\\user-manual\\venv\\lib\\site-packages (from matplotlib) (1.3.1)\n",
      "Requirement already satisfied: cycler>=0.10 in c:\\users\\sjaysawa\\desktop\\int\\user-manual\\venv\\lib\\site-packages (from matplotlib) (0.12.1)\n",
      "Requirement already satisfied: fonttools>=4.22.0 in c:\\users\\sjaysawa\\desktop\\int\\user-manual\\venv\\lib\\site-packages (from matplotlib) (4.55.3)\n",
      "Requirement already satisfied: kiwisolver>=1.3.1 in c:\\users\\sjaysawa\\desktop\\int\\user-manual\\venv\\lib\\site-packages (from matplotlib) (1.4.8)\n",
      "Requirement already satisfied: numpy>=1.23 in c:\\users\\sjaysawa\\desktop\\int\\user-manual\\venv\\lib\\site-packages (from matplotlib) (1.26.4)\n",
      "Requirement already satisfied: packaging>=20.0 in c:\\users\\sjaysawa\\desktop\\int\\user-manual\\venv\\lib\\site-packages (from matplotlib) (24.2)\n",
      "Requirement already satisfied: pillow>=8 in c:\\users\\sjaysawa\\desktop\\int\\user-manual\\venv\\lib\\site-packages (from matplotlib) (10.4.0)\n",
      "Requirement already satisfied: pyparsing>=2.3.1 in c:\\users\\sjaysawa\\desktop\\int\\user-manual\\venv\\lib\\site-packages (from matplotlib) (3.2.0)\n",
      "Requirement already satisfied: python-dateutil>=2.7 in c:\\users\\sjaysawa\\desktop\\int\\user-manual\\venv\\lib\\site-packages (from matplotlib) (2.9.0.post0)\n",
      "Requirement already satisfied: six>=1.5 in c:\\users\\sjaysawa\\desktop\\int\\user-manual\\venv\\lib\\site-packages (from python-dateutil>=2.7->matplotlib) (1.17.0)\n"
     ]
    }
   ],
   "source": [
    "!pip install pandas\n",
    "!pip install numpy\n",
    "!pip install sqlalchemy\n",
    "!pip install matplotlib\n"
   ]
  },
  {
   "cell_type": "code",
   "execution_count": 18,
   "metadata": {},
   "outputs": [],
   "source": [
    "import sqlite3\n",
    "import pandas as pd\n",
    "import numpy as np\n",
    "import matplotlib.pyplot as plt\n",
    "import os\n"
   ]
  },
  {
   "cell_type": "markdown",
   "metadata": {},
   "source": [
    "DataLoader Class"
   ]
  },
  {
   "cell_type": "code",
   "execution_count": 19,
   "metadata": {},
   "outputs": [],
   "source": [
    "class DataLoader:\n",
    "    def __init__(self, file_path):\n",
    "        self.file_path = file_path\n",
    "        self.data = None\n",
    "\n",
    "    def load_data(self):\n",
    "        try:\n",
    "            self.data = pd.read_csv(self.file_path)\n",
    "            print(\"Data loaded successfully!\")\n",
    "        except FileNotFoundError:\n",
    "            raise Exception(f\"File not found: {self.file_path}\")\n",
    "        except Exception as e:\n",
    "            raise Exception(f\"An error occurred while loading data: {e}\")\n",
    "\n",
    "    def clean_data(self):\n",
    "        if self.data is not None:\n",
    "            self.data.drop_duplicates(inplace=True)\n",
    "            self.data.dropna(inplace=True)\n",
    "            self.data = self.data[self.data['sensor_value'] >= 0]\n",
    "            print(\"Data cleaned successfully!\")\n",
    "        else:\n",
    "            raise Exception(\"No data loaded to clean.\")\n",
    "\n",
    "    def get_cleaned_data(self):\n",
    "        return self.data\n"
   ]
  },
  {
   "cell_type": "markdown",
   "metadata": {},
   "source": [
    "DatabaseHandler Class"
   ]
  },
  {
   "cell_type": "code",
   "execution_count": 20,
   "metadata": {},
   "outputs": [],
   "source": [
    "class DatabaseHandler:\n",
    "    def __init__(self, db_name=\"iot_sensor_data.db\"):\n",
    "        self.conn = sqlite3.connect(db_name)\n",
    "        self.cursor = self.conn.cursor()\n",
    "\n",
    "    def create_tables(self):\n",
    "        query = \"\"\"\n",
    "        CREATE TABLE IF NOT EXISTS sensor_data (\n",
    "            site_id TEXT,\n",
    "            meter_id TEXT,\n",
    "            timestamp TEXT,\n",
    "            sensor_name TEXT,\n",
    "            sensor_value REAL,\n",
    "            status TEXT\n",
    "        )\n",
    "        \"\"\"\n",
    "        self.cursor.execute(query)\n",
    "        self.conn.commit()\n",
    "        print(\"Database tables created successfully!\")\n",
    "\n",
    "    def load_data_to_db(self, data):\n",
    "        data.to_sql('sensor_data', self.conn, if_exists='replace', index=False)\n",
    "        print(\"Data loaded into database successfully!\")\n",
    "\n",
    "    def execute_query(self, query):\n",
    "        return pd.read_sql_query(query, self.conn)\n",
    "\n",
    "    def close_connection(self):\n",
    "        self.conn.close()\n"
   ]
  },
  {
   "cell_type": "markdown",
   "metadata": {},
   "source": [
    "DataPreProcessor Class"
   ]
  },
  {
   "cell_type": "code",
   "execution_count": 21,
   "metadata": {},
   "outputs": [],
   "source": [
    "class DataPreProcessor:\n",
    "    @staticmethod\n",
    "    def normalize_values(data, column):\n",
    "        data[column] = (data[column] - data[column].min()) / (data[column].max() - data[column].min())\n",
    "        print(f\"Normalized column: {column}\")\n",
    "        return data\n",
    "\n",
    "    @staticmethod\n",
    "    def create_time_series(data):\n",
    "        data['timestamp'] = pd.to_datetime(data['timestamp'])\n",
    "        data.set_index('timestamp', inplace=True)\n",
    "        print(\"Time-series DataFrame created.\")\n",
    "        return data\n",
    "\n",
    "    @staticmethod\n",
    "    def interpolate_missing(data, column):\n",
    "        data[column].interpolate(method='time', inplace=True)\n",
    "        print(f\"Interpolated missing values for: {column}\")\n",
    "        return data\n"
   ]
  },
  {
   "cell_type": "markdown",
   "metadata": {},
   "source": [
    "MetricsCalculator Class"
   ]
  },
  {
   "cell_type": "code",
   "execution_count": 22,
   "metadata": {},
   "outputs": [],
   "source": [
    "class MetricsCalculator:\n",
    "    @staticmethod\n",
    "    def calculate_metrics(data):\n",
    "        metrics = data.groupby([data.index.date, 'site_id', 'sensor_name']).agg({\n",
    "            'sensor_value': ['mean', 'max', 'sum']\n",
    "        })\n",
    "        metrics.columns = ['average', 'maximum', 'daily_sum']\n",
    "        metrics.reset_index(inplace=True)\n",
    "        print(\"Metrics calculated successfully!\")\n",
    "        return metrics\n"
   ]
  },
  {
   "cell_type": "markdown",
   "metadata": {},
   "source": [
    "GraphGenerator Class"
   ]
  },
  {
   "cell_type": "code",
   "execution_count": 23,
   "metadata": {},
   "outputs": [],
   "source": [
    "class GraphGenerator:\n",
    "    @staticmethod\n",
    "    def generate_plot(data, output_path, column, title):\n",
    "        plt.figure(figsize=(10, 6))\n",
    "        data[column].plot(title=title)\n",
    "        plt.savefig(os.path.join(output_path, f\"{title}.png\"))\n",
    "        print(f\"Plot saved: {title}.png\")\n"
   ]
  },
  {
   "cell_type": "markdown",
   "metadata": {},
   "source": [
    "DataReportGenerator Class"
   ]
  },
  {
   "cell_type": "code",
   "execution_count": 24,
   "metadata": {},
   "outputs": [],
   "source": [
    "class DataReportGenerator:\n",
    "    @staticmethod\n",
    "    def export_to_csv(data, file_name):\n",
    "        data.to_csv(file_name, index=False)\n",
    "        print(f\"Report exported to: {file_name}\")\n"
   ]
  },
  {
   "cell_type": "markdown",
   "metadata": {},
   "source": [
    "Main Workflow"
   ]
  },
  {
   "cell_type": "markdown",
   "metadata": {},
   "source": [
    "Configuration"
   ]
  },
  {
   "cell_type": "code",
   "execution_count": 25,
   "metadata": {},
   "outputs": [],
   "source": [
    "file_path = \"./IoT_Sensor_Data.csv\"\n",
    "db_name = \"iot_sensor_data.db\"\n",
    "output_folder = \"./plots\"\n",
    "os.makedirs(output_folder, exist_ok=True)\n"
   ]
  },
  {
   "cell_type": "markdown",
   "metadata": {},
   "source": [
    "Load and Clean Data"
   ]
  },
  {
   "cell_type": "code",
   "execution_count": 26,
   "metadata": {},
   "outputs": [
    {
     "name": "stdout",
     "output_type": "stream",
     "text": [
      "Data loaded successfully!\n",
      "Data cleaned successfully!\n"
     ]
    }
   ],
   "source": [
    "loader = DataLoader(file_path)\n",
    "loader.load_data()\n",
    "loader.clean_data()\n",
    "cleaned_data = loader.get_cleaned_data()\n"
   ]
  },
  {
   "cell_type": "markdown",
   "metadata": {},
   "source": [
    "Load Data to Database"
   ]
  },
  {
   "cell_type": "code",
   "execution_count": 27,
   "metadata": {},
   "outputs": [
    {
     "name": "stdout",
     "output_type": "stream",
     "text": [
      "Database tables created successfully!\n",
      "Data loaded into database successfully!\n"
     ]
    }
   ],
   "source": [
    "db_handler = DatabaseHandler(db_name)\n",
    "db_handler.create_tables()\n",
    "db_handler.load_data_to_db(cleaned_data)\n"
   ]
  },
  {
   "cell_type": "markdown",
   "metadata": {},
   "source": [
    "Data Processing"
   ]
  },
  {
   "cell_type": "code",
   "execution_count": 28,
   "metadata": {},
   "outputs": [
    {
     "name": "stdout",
     "output_type": "stream",
     "text": [
      "Normalized column: sensor_value\n",
      "Time-series DataFrame created.\n"
     ]
    }
   ],
   "source": [
    "preprocessor = DataPreProcessor()\n",
    "normalized_data = preprocessor.normalize_values(cleaned_data.copy(), 'sensor_value')\n",
    "time_series_data = preprocessor.create_time_series(normalized_data)\n"
   ]
  },
  {
   "cell_type": "markdown",
   "metadata": {},
   "source": [
    "Metrics Calculation"
   ]
  },
  {
   "cell_type": "code",
   "execution_count": 29,
   "metadata": {},
   "outputs": [
    {
     "name": "stdout",
     "output_type": "stream",
     "text": [
      "Metrics calculated successfully!\n"
     ]
    }
   ],
   "source": [
    "metrics = MetricsCalculator.calculate_metrics(time_series_data)\n"
   ]
  },
  {
   "cell_type": "markdown",
   "metadata": {},
   "source": [
    "Generate Visualization"
   ]
  },
  {
   "cell_type": "code",
   "execution_count": 30,
   "metadata": {},
   "outputs": [
    {
     "name": "stdout",
     "output_type": "stream",
     "text": [
      "Plot saved: Sensor Value Over Time.png\n"
     ]
    },
    {
     "data": {
      "image/png": "[encoded data removed]",
      "text/plain": [
       "<Figure size 1000x600 with 1 Axes>"
      ]
     },
     "metadata": {},
     "output_type": "display_data"
    }
   ],
   "source": [
    "GraphGenerator.generate_plot(time_series_data, output_folder, 'sensor_value', \"Sensor Value Over Time\")\n"
   ]
  },
  {
   "cell_type": "markdown",
   "metadata": {},
   "source": [
    "Export Report"
   ]
  },
  {
   "cell_type": "code",
   "execution_count": 31,
   "metadata": {},
   "outputs": [
    {
     "name": "stdout",
     "output_type": "stream",
     "text": [
      "Report exported to: metrics_report.csv\n"
     ]
    }
   ],
   "source": [
    "DataReportGenerator.export_to_csv(metrics, \"metrics_report.csv\")\n"
   ]
  },
  {
   "cell_type": "markdown",
   "metadata": {},
   "source": [
    "SQL Queries : Total Power Consumption per Site, Meters with Highest Power Usage, Missing Timestamps per Meter"
   ]
  },
  {
   "cell_type": "code",
   "execution_count": 32,
   "metadata": {},
   "outputs": [
    {
     "name": "stdout",
     "output_type": "stream",
     "text": [
      "  site_id  total_power\n",
      "0  Site_A    225450.53\n",
      "1  Site_B    220911.02\n",
      "  site_id        meter_id  max_power\n",
      "0  Site_B  Site_B_Meter_2     100.00\n",
      "1  Site_B  Site_B_Meter_1      99.97\n",
      "2  Site_A  Site_A_Meter_2      99.94\n",
      "3  Site_B  Site_B_Meter_3      99.94\n",
      "4  Site_A  Site_A_Meter_3      99.91\n",
      "5  Site_A  Site_A_Meter_1      99.87\n",
      "Empty DataFrame\n",
      "Columns: [meter_id, timestamp]\n",
      "Index: []\n"
     ]
    }
   ],
   "source": [
    "# Query 1: Total Power Consumption per Site\n",
    "query_1 = \"\"\"\n",
    "SELECT site_id, SUM(sensor_value) AS total_power\n",
    "FROM sensor_data\n",
    "WHERE sensor_name = 'power_consumption'\n",
    "GROUP BY site_id;\n",
    "\"\"\"\n",
    "result_1 = db_handler.execute_query(query_1)\n",
    "print(result_1)\n",
    "\n",
    "# Query 2: Meters with Highest Power Usage\n",
    "query_2 = \"\"\"\n",
    "SELECT site_id, meter_id, MAX(sensor_value) AS max_power\n",
    "FROM sensor_data\n",
    "WHERE sensor_name = 'power_consumption'\n",
    "GROUP BY site_id, meter_id\n",
    "ORDER BY max_power DESC;\n",
    "\"\"\"\n",
    "result_2 = db_handler.execute_query(query_2)\n",
    "print(result_2)\n",
    "\n",
    "# Query 3: Missing Timestamps per Meter\n",
    "query_3 = \"\"\"\n",
    "SELECT meter_id, timestamp\n",
    "FROM (\n",
    "    SELECT meter_id, timestamp,\n",
    "           LEAD(timestamp) OVER (PARTITION BY meter_id ORDER BY timestamp) AS next_time\n",
    "    FROM sensor_data\n",
    ")\n",
    "WHERE strftime('%s', next_time) - strftime('%s', timestamp) > 300;\n",
    "\"\"\"\n",
    "result_3 = db_handler.execute_query(query_3)\n",
    "print(result_3)\n"
   ]
  },
  {
   "cell_type": "markdown",
   "metadata": {},
   "source": [
    "Close Database Connection"
   ]
  },
  {
   "cell_type": "code",
   "execution_count": 33,
   "metadata": {},
   "outputs": [],
   "source": [
    "db_handler.close_connection()\n"
   ]
  }
 ],
 "metadata": {
  "kernelspec": {
   "display_name": "venv",
   "language": "python",
   "name": "python3"
  },
  "language_info": {
   "codemirror_mode": {
    "name": "ipython",
    "version": 3
   },
   "file_extension": ".py",
   "mimetype": "text/x-python",
   "name": "python",
   "nbconvert_exporter": "python",
   "pygments_lexer": "ipython3",
   "version": "3.11.3"
  }
 },
 "nbformat": 4,
 "nbformat_minor": 2
}
